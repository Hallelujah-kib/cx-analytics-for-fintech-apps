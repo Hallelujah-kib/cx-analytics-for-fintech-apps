{
 "cells": [
  {
   "cell_type": "markdown",
   "id": "4d4679f3",
   "metadata": {},
   "source": [
    "# 💬 Sentiment & Theme Analysis"
   ]
  },
  {
   "cell_type": "code",
   "execution_count": null,
   "id": "eee8d057",
   "metadata": {},
   "outputs": [],
   "source": [
    "\n",
    "import pandas as pd\n",
    "import matplotlib.pyplot as plt\n",
    "from wordcloud import WordCloud\n",
    "import seaborn as sns\n",
    "\n",
    "df = pd.read_csv('../outputs/final_sentiment_reviews.csv')\n",
    "df.head()\n",
    "    "
   ]
  },
  {
   "cell_type": "markdown",
   "id": "ceac418c",
   "metadata": {},
   "source": [
    "### Sentiment Distribution by Bank"
   ]
  },
  {
   "cell_type": "code",
   "execution_count": null,
   "id": "e69b1a0f",
   "metadata": {},
   "outputs": [],
   "source": [
    "\n",
    "sns.countplot(data=df, x='bank', hue='sentiment_label')\n",
    "plt.title(\"Sentiment Distribution by Bank\")\n",
    "plt.ylabel(\"Review Count\")\n",
    "plt.xlabel(\"Bank\")\n",
    "plt.legend(title='Sentiment')\n",
    "plt.show()\n",
    "    "
   ]
  },
  {
   "cell_type": "markdown",
   "id": "93e00536",
   "metadata": {},
   "source": [
    "### Word Clouds per Bank"
   ]
  },
  {
   "cell_type": "code",
   "execution_count": null,
   "id": "f0762516",
   "metadata": {},
   "outputs": [],
   "source": [
    "\n",
    "for bank in df['bank'].unique():\n",
    "    text = \" \".join(df[df['bank'] == bank]['review_text'].dropna().astype(str).values)\n",
    "    wordcloud = WordCloud(width=800, height=400, background_color='white').generate(text)\n",
    "    plt.figure(figsize=(10, 5))\n",
    "    plt.imshow(wordcloud, interpolation='bilinear')\n",
    "    plt.axis(\"off\")\n",
    "    plt.title(f\"Word Cloud for {bank}\")\n",
    "    plt.show()\n",
    "    "
   ]
  },
  {
   "cell_type": "markdown",
   "id": "61eef775",
   "metadata": {},
   "source": [
    "### Sentiment vs. Rating"
   ]
  },
  {
   "cell_type": "code",
   "execution_count": null,
   "id": "688b7b54",
   "metadata": {},
   "outputs": [],
   "source": [
    "\n",
    "sns.boxplot(x='sentiment_label', y='rating', data=df)\n",
    "plt.title(\"Rating Distribution by Sentiment Label\")\n",
    "plt.show()\n",
    "    "
   ]
  },
  {
   "cell_type": "markdown",
   "id": "8e3ef3a3",
   "metadata": {},
   "source": [
    "### Top Keywords by TF-IDF (Basic Example Placeholder)"
   ]
  },
  {
   "cell_type": "code",
   "execution_count": null,
   "id": "46671449",
   "metadata": {},
   "outputs": [],
   "source": [
    "\n",
    "from sklearn.feature_extraction.text import TfidfVectorizer\n",
    "\n",
    "corpus = df['review_text'].dropna().astype(str)\n",
    "vectorizer = TfidfVectorizer(max_features=10, stop_words='english')\n",
    "X = vectorizer.fit_transform(corpus)\n",
    "print(vectorizer.get_feature_names_out())\n",
    "    "
   ]
  }
 ],
 "metadata": {},
 "nbformat": 4,
 "nbformat_minor": 5
}