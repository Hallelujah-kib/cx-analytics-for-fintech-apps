{
 "cells": [
  {
   "cell_type": "markdown",
   "id": "4b30a72d",
   "metadata": {},
   "source": [
    "### Setting up Importing"
   ]
  },
  {
   "cell_type": "code",
   "execution_count": 1,
   "id": "9a9a0576",
   "metadata": {},
   "outputs": [],
   "source": [
    "import os\n",
    "import sys\n",
    "\n",
    "# Get the current notebook's directory\n",
    "notebook_dir = os.getcwd()\n",
    "\n",
    "# Go up two levels to reach the project root (assuming notebook is in notebooks/)\n",
    "project_root = os.path.abspath(os.path.join(notebook_dir, '..'))\n",
    "\n",
    "# Add the project root to Python path\n",
    "if project_root not in sys.path:\n",
    "    sys.path.insert(0, project_root)\n"
   ]
  },
  {
   "cell_type": "code",
   "execution_count": null,
   "id": "837db5de",
   "metadata": {},
   "outputs": [
    {
     "name": "stderr",
     "output_type": "stream",
     "text": [
      "2025-06-10 23:22:31,725 - INFO - Starting scrape for CBE\n",
      "2025-06-10 23:22:34,656 - INFO - Collected 400 reviews for CBE\n",
      "2025-06-10 23:22:34,672 - INFO - Saved 400 reviews to c:\\Users\\Lidya\\Documents\\projects\\cx-analytics-for-fintech-apps\\data\\scraped_data\\CBE_reviews_20250610_232231.csv\n",
      "2025-06-10 23:22:34,675 - INFO - Starting scrape for BOA\n",
      "2025-06-10 23:22:37,368 - INFO - Collected 400 reviews for BOA\n",
      "2025-06-10 23:22:37,379 - INFO - Saved 400 reviews to c:\\Users\\Lidya\\Documents\\projects\\cx-analytics-for-fintech-apps\\data\\scraped_data\\BOA_reviews_20250610_232231.csv\n",
      "2025-06-10 23:22:37,383 - INFO - Starting scrape for Dashen\n",
      "2025-06-10 23:22:40,068 - INFO - Collected 400 reviews for Dashen\n",
      "2025-06-10 23:22:40,068 - INFO - Saved 400 reviews to c:\\Users\\Lidya\\Documents\\projects\\cx-analytics-for-fintech-apps\\data\\scraped_data\\Dashen_reviews_20250610_232231.csv\n",
      "2025-06-10 23:22:40,068 - INFO - Starting cleaning with 1200 initial reviews\n",
      "2025-06-10 23:22:40,088 - INFO - Removed 212 duplicate reviews\n",
      "2025-06-10 23:22:40,093 - INFO - After dropping NA values: 988 reviews remain\n",
      "2025-06-10 23:22:40,117 - INFO - Cleaning complete. Final count: 809 reviews\n",
      "2025-06-10 23:22:40,122 - ERROR - Error saving data: File ../data/processed/clean_reviews.csv already exists. Set overwrite=True to replace.\n"
     ]
    },
    {
     "ename": "FileExistsError",
     "evalue": "File ../data/processed/clean_reviews.csv already exists. Set overwrite=True to replace.",
     "output_type": "error",
     "traceback": [
      "\u001b[1;31m---------------------------------------------------------------------------\u001b[0m",
      "\u001b[1;31mFileExistsError\u001b[0m                           Traceback (most recent call last)",
      "Cell \u001b[1;32mIn[2], line 13\u001b[0m\n\u001b[0;32m     10\u001b[0m cleaned_df \u001b[38;5;241m=\u001b[39m preprocessor\u001b[38;5;241m.\u001b[39mclean_reviews(raw_df)\n\u001b[0;32m     12\u001b[0m \u001b[38;5;66;03m# Save cleaned data\u001b[39;00m\n\u001b[1;32m---> 13\u001b[0m \u001b[43mpreprocessor\u001b[49m\u001b[38;5;241;43m.\u001b[39;49m\u001b[43msave_clean_data\u001b[49m\u001b[43m(\u001b[49m\n\u001b[0;32m     14\u001b[0m \u001b[43m    \u001b[49m\u001b[43mcleaned_df\u001b[49m\u001b[43m,\u001b[49m\n\u001b[0;32m     15\u001b[0m \u001b[43m    \u001b[49m\u001b[38;5;124;43m\"\u001b[39;49m\u001b[38;5;124;43m../data/processed/clean_reviews.csv\u001b[39;49m\u001b[38;5;124;43m\"\u001b[39;49m\n\u001b[0;32m     16\u001b[0m \u001b[43m)\u001b[49m\n",
      "File \u001b[1;32mc:\\Users\\Lidya\\Documents\\projects\\cx-analytics-for-fintech-apps\\src\\preprocess.py:96\u001b[0m, in \u001b[0;36mReviewPreprocessor.save_clean_data\u001b[1;34m(self, df, path, overwrite)\u001b[0m\n\u001b[0;32m     93\u001b[0m     \u001b[38;5;28;01mraise\u001b[39;00m \u001b[38;5;167;01mValueError\u001b[39;00m(\u001b[38;5;124m\"\u001b[39m\u001b[38;5;124mInput must be a pandas DataFrame\u001b[39m\u001b[38;5;124m\"\u001b[39m)\n\u001b[0;32m     95\u001b[0m \u001b[38;5;28;01mif\u001b[39;00m os\u001b[38;5;241m.\u001b[39mpath\u001b[38;5;241m.\u001b[39mexists(path) \u001b[38;5;129;01mand\u001b[39;00m \u001b[38;5;129;01mnot\u001b[39;00m overwrite:\n\u001b[1;32m---> 96\u001b[0m     \u001b[38;5;28;01mraise\u001b[39;00m \u001b[38;5;167;01mFileExistsError\u001b[39;00m(\u001b[38;5;124mf\u001b[39m\u001b[38;5;124m\"\u001b[39m\u001b[38;5;124mFile \u001b[39m\u001b[38;5;132;01m{\u001b[39;00mpath\u001b[38;5;132;01m}\u001b[39;00m\u001b[38;5;124m already exists. Set overwrite=True to replace.\u001b[39m\u001b[38;5;124m\"\u001b[39m)\n\u001b[0;32m     98\u001b[0m os\u001b[38;5;241m.\u001b[39mmakedirs(os\u001b[38;5;241m.\u001b[39mpath\u001b[38;5;241m.\u001b[39mdirname(path), exist_ok\u001b[38;5;241m=\u001b[39m\u001b[38;5;28;01mTrue\u001b[39;00m)\n\u001b[0;32m     99\u001b[0m df\u001b[38;5;241m.\u001b[39mto_csv(path, index\u001b[38;5;241m=\u001b[39m\u001b[38;5;28;01mFalse\u001b[39;00m, encoding\u001b[38;5;241m=\u001b[39m\u001b[38;5;124m'\u001b[39m\u001b[38;5;124mutf-8\u001b[39m\u001b[38;5;124m'\u001b[39m)\n",
      "\u001b[1;31mFileExistsError\u001b[0m: File ../data/processed/clean_reviews.csv already exists. Set overwrite=True to replace."
     ]
    }
   ],
   "source": [
    "from src.scraper import PlayStoreScraper\n",
    "from src.preprocess import ReviewPreprocessor\n",
    "\n",
    "# Scrape data\n",
    "scraper = PlayStoreScraper()\n",
    "raw_df = scraper.scrape_all_reviews(count_per_app=400)\n",
    "\n",
    "# Clean data\n",
    "preprocessor = ReviewPreprocessor()\n",
    "cleaned_df = preprocessor.clean_reviews(raw_df)\n",
    "\n",
    "# Save cleaned data\n",
    "preprocessor.save_clean_data(\n",
    "    cleaned_df,\n",
    "    \"../data/processed/clean_reviews.csv\", overwrite= True\n",
    ")"
   ]
  },
  {
   "cell_type": "markdown",
   "id": "304f9671",
   "metadata": {},
   "source": [
    "### Cleaning Review Data"
   ]
  },
  {
   "cell_type": "code",
   "execution_count": null,
   "id": "7e905856",
   "metadata": {},
   "outputs": [],
   "source": []
  }
 ],
 "metadata": {
  "kernelspec": {
   "display_name": "venv",
   "language": "python",
   "name": "python3"
  },
  "language_info": {
   "codemirror_mode": {
    "name": "ipython",
    "version": 3
   },
   "file_extension": ".py",
   "mimetype": "text/x-python",
   "name": "python",
   "nbconvert_exporter": "python",
   "pygments_lexer": "ipython3",
   "version": "3.9.13"
  }
 },
 "nbformat": 4,
 "nbformat_minor": 5
}
