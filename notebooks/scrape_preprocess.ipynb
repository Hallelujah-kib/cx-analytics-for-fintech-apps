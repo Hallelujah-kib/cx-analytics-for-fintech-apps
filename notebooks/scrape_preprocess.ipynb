{
 "cells": [
  {
   "cell_type": "markdown",
   "id": "f4f70bc5",
   "metadata": {},
   "source": [
    "### Setup environment"
   ]
  },
  {
   "cell_type": "code",
   "execution_count": 1,
   "id": "5b1a76b3",
   "metadata": {},
   "outputs": [],
   "source": [
    "import os\n",
    "import sys\n",
    "import pandas as pd\n",
    "from IPython.display import display, Markdown\n",
    "\n",
    "# Add project root to path\n",
    "project_root = os.path.abspath(os.path.join('..'))\n",
    "if project_root not in sys.path:\n",
    "    sys.path.append(project_root)\n",
    "\n",
    "# Import classes\n",
    "from src.scraper import PlayStoreScraper\n",
    "from src.preprocess import ReviewPreprocessor"
   ]
  },
  {
   "cell_type": "markdown",
   "id": "432d0020",
   "metadata": {},
   "source": [
    "### 1. Scrape New Reviews"
   ]
  },
  {
   "cell_type": "code",
   "execution_count": 2,
   "id": "5b122401",
   "metadata": {},
   "outputs": [],
   "source": [
    "def run_scraper():\n",
    "    display(Markdown(\"### 🚀 Scraping New Reviews\"))\n",
    "    scraper = PlayStoreScraper()\n",
    "    scraped_df = scraper.scrape_all_reviews(count_per_app=450)  \n",
    "    \n",
    "    if not scraped_df.empty:\n",
    "        display(Markdown(f\"**Successfully scraped {len(scraped_df)} reviews**\"))\n",
    "        display(scraped_df.sample(3))\n",
    "    else:\n",
    "        display(Markdown(\"**⚠️ No reviews were scraped**\"))\n",
    "    return scraped_df\n",
    "\n"
   ]
  },
  {
   "cell_type": "markdown",
   "id": "1a9cc69b",
   "metadata": {},
   "source": [
    "### 2. Clean Reviews"
   ]
  },
  {
   "cell_type": "code",
   "execution_count": 3,
   "id": "5e656184",
   "metadata": {},
   "outputs": [],
   "source": [
    "def run_cleaner():\n",
    "    display(Markdown(\"### 🧹 Cleaning Reviews\"))\n",
    "    cleaner = ReviewPreprocessor()\n",
    "    cleaned_df = cleaner.process()\n",
    "    \n",
    "    if cleaned_df is not None:\n",
    "        display(Markdown(f\"**Cleaned {len(cleaned_df)} reviews**\"))\n",
    "        \n",
    "        # Show summary\n",
    "        display(Markdown(\"#### 📊 Summary\"))\n",
    "        display(cleaned_df.describe(include='object'))\n",
    "        \n",
    "        # Show rating distribution\n",
    "        display(Markdown(\"#### ⭐ Rating Distribution\"))\n",
    "        rating_counts = cleaned_df['rating'].value_counts().sort_index()\n",
    "        display(rating_counts)\n",
    "        \n",
    "        return cleaned_df\n",
    "    else:\n",
    "        display(Markdown(\"**⚠️ No reviews were cleaned**\"))\n",
    "        return None"
   ]
  },
  {
   "cell_type": "markdown",
   "id": "7430bfdd",
   "metadata": {},
   "source": [
    "### Main execution"
   ]
  },
  {
   "cell_type": "code",
   "execution_count": 4,
   "id": "8d76409b",
   "metadata": {},
   "outputs": [
    {
     "data": {
      "text/markdown": [
       "### 🚀 Scraping New Reviews"
      ],
      "text/plain": [
       "<IPython.core.display.Markdown object>"
      ]
     },
     "metadata": {},
     "output_type": "display_data"
    },
    {
     "ename": "AttributeError",
     "evalue": "'PlayStoreScraper' object has no attribute 'logs_dir'",
     "output_type": "error",
     "traceback": [
      "\u001b[1;31m---------------------------------------------------------------------------\u001b[0m",
      "\u001b[1;31mAttributeError\u001b[0m                            Traceback (most recent call last)",
      "Cell \u001b[1;32mIn[4], line 2\u001b[0m\n\u001b[0;32m      1\u001b[0m \u001b[38;5;28;01mif\u001b[39;00m \u001b[38;5;18m__name__\u001b[39m \u001b[38;5;241m==\u001b[39m \u001b[38;5;124m'\u001b[39m\u001b[38;5;124m__main__\u001b[39m\u001b[38;5;124m'\u001b[39m:\n\u001b[1;32m----> 2\u001b[0m     scraped_data \u001b[38;5;241m=\u001b[39m \u001b[43mrun_scraper\u001b[49m\u001b[43m(\u001b[49m\u001b[43m)\u001b[49m\n\u001b[0;32m      3\u001b[0m     \u001b[38;5;28;01mif\u001b[39;00m \u001b[38;5;129;01mnot\u001b[39;00m scraped_data\u001b[38;5;241m.\u001b[39mempty:\n\u001b[0;32m      4\u001b[0m         cleaned_data \u001b[38;5;241m=\u001b[39m run_cleaner()\n",
      "Cell \u001b[1;32mIn[2], line 3\u001b[0m, in \u001b[0;36mrun_scraper\u001b[1;34m()\u001b[0m\n\u001b[0;32m      1\u001b[0m \u001b[38;5;28;01mdef\u001b[39;00m\u001b[38;5;250m \u001b[39m\u001b[38;5;21mrun_scraper\u001b[39m():\n\u001b[0;32m      2\u001b[0m     display(Markdown(\u001b[38;5;124m\"\u001b[39m\u001b[38;5;124m### 🚀 Scraping New Reviews\u001b[39m\u001b[38;5;124m\"\u001b[39m))\n\u001b[1;32m----> 3\u001b[0m     scraper \u001b[38;5;241m=\u001b[39m \u001b[43mPlayStoreScraper\u001b[49m\u001b[43m(\u001b[49m\u001b[43m)\u001b[49m\n\u001b[0;32m      4\u001b[0m     scraped_df \u001b[38;5;241m=\u001b[39m scraper\u001b[38;5;241m.\u001b[39mscrape_all_reviews(count_per_app\u001b[38;5;241m=\u001b[39m\u001b[38;5;241m450\u001b[39m)  \n\u001b[0;32m      6\u001b[0m     \u001b[38;5;28;01mif\u001b[39;00m \u001b[38;5;129;01mnot\u001b[39;00m scraped_df\u001b[38;5;241m.\u001b[39mempty:\n",
      "File \u001b[1;32mc:\\Users\\Lidya\\Documents\\projects\\cx-analytics-for-fintech-apps\\src\\scraper.py:14\u001b[0m, in \u001b[0;36mPlayStoreScraper.__init__\u001b[1;34m(self, config_path)\u001b[0m\n\u001b[0;32m     13\u001b[0m \u001b[38;5;28;01mdef\u001b[39;00m\u001b[38;5;250m \u001b[39m\u001b[38;5;21m__init__\u001b[39m(\u001b[38;5;28mself\u001b[39m, config_path: \u001b[38;5;28mstr\u001b[39m \u001b[38;5;241m=\u001b[39m \u001b[38;5;28;01mNone\u001b[39;00m):\n\u001b[1;32m---> 14\u001b[0m     \u001b[38;5;28;43mself\u001b[39;49m\u001b[38;5;241;43m.\u001b[39;49m\u001b[43m_setup_paths\u001b[49m\u001b[43m(\u001b[49m\u001b[43m)\u001b[49m\n\u001b[0;32m     15\u001b[0m     \u001b[38;5;28mself\u001b[39m\u001b[38;5;241m.\u001b[39m_setup_logging()\n\u001b[0;32m     16\u001b[0m     \u001b[38;5;28mself\u001b[39m\u001b[38;5;241m.\u001b[39mconfig \u001b[38;5;241m=\u001b[39m \u001b[38;5;28mself\u001b[39m\u001b[38;5;241m.\u001b[39m_load_config(config_path)\n",
      "File \u001b[1;32mc:\\Users\\Lidya\\Documents\\projects\\cx-analytics-for-fintech-apps\\src\\scraper.py:25\u001b[0m, in \u001b[0;36mPlayStoreScraper._setup_paths\u001b[1;34m(self)\u001b[0m\n\u001b[0;32m     23\u001b[0m \u001b[38;5;28mself\u001b[39m\u001b[38;5;241m.\u001b[39moutput_dir \u001b[38;5;241m=\u001b[39m os\u001b[38;5;241m.\u001b[39mpath\u001b[38;5;241m.\u001b[39mjoin(\u001b[38;5;28mself\u001b[39m\u001b[38;5;241m.\u001b[39mbase_dir, \u001b[38;5;124m'\u001b[39m\u001b[38;5;124mdata\u001b[39m\u001b[38;5;124m'\u001b[39m, \u001b[38;5;124m'\u001b[39m\u001b[38;5;124mcleaned_data\u001b[39m\u001b[38;5;124m'\u001b[39m)\n\u001b[0;32m     24\u001b[0m os\u001b[38;5;241m.\u001b[39mmakedirs(\u001b[38;5;28mself\u001b[39m\u001b[38;5;241m.\u001b[39mdata_dir, exist_ok\u001b[38;5;241m=\u001b[39m\u001b[38;5;28;01mTrue\u001b[39;00m)\n\u001b[1;32m---> 25\u001b[0m os\u001b[38;5;241m.\u001b[39mmakedirs(\u001b[38;5;28;43mself\u001b[39;49m\u001b[38;5;241;43m.\u001b[39;49m\u001b[43mlogs_dir\u001b[49m, exist_ok\u001b[38;5;241m=\u001b[39m\u001b[38;5;28;01mTrue\u001b[39;00m)\n",
      "\u001b[1;31mAttributeError\u001b[0m: 'PlayStoreScraper' object has no attribute 'logs_dir'"
     ]
    }
   ],
   "source": [
    "if __name__ == '__main__':\n",
    "    scraped_data = run_scraper()\n",
    "    if not scraped_data.empty:\n",
    "        cleaned_data = run_cleaner()"
   ]
  }
 ],
 "metadata": {
  "kernelspec": {
   "display_name": "venv",
   "language": "python",
   "name": "python3"
  },
  "language_info": {
   "codemirror_mode": {
    "name": "ipython",
    "version": 3
   },
   "file_extension": ".py",
   "mimetype": "text/x-python",
   "name": "python",
   "nbconvert_exporter": "python",
   "pygments_lexer": "ipython3",
   "version": "3.9.13"
  }
 },
 "nbformat": 4,
 "nbformat_minor": 5
}
