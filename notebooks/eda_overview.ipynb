{
 "cells": [
  {
   "cell_type": "markdown",
   "id": "8d98eb1c",
   "metadata": {},
   "source": [
    "# 📊 EDA Overview – Fintech App Reviews"
   ]
  },
  {
   "cell_type": "code",
   "execution_count": null,
   "id": "aeb4ac65",
   "metadata": {},
   "outputs": [],
   "source": [
    "\n",
    "import pandas as pd\n",
    "import seaborn as sns\n",
    "import matplotlib.pyplot as plt\n",
    "\n",
    "df = pd.read_csv('../outputs/final_sentiment_reviews.csv')\n",
    "df.head()\n",
    "    "
   ]
  },
  {
   "cell_type": "markdown",
   "id": "42d2ecaa",
   "metadata": {},
   "source": [
    "### Rating Distribution"
   ]
  },
  {
   "cell_type": "code",
   "execution_count": null,
   "id": "1b91db38",
   "metadata": {},
   "outputs": [],
   "source": [
    "\n",
    "sns.histplot(df['rating'], bins=5, kde=True)\n",
    "plt.title(\"Distribution of Ratings\")\n",
    "plt.xlabel(\"Rating\")\n",
    "plt.ylabel(\"Count\")\n",
    "plt.show()\n",
    "    "
   ]
  },
  {
   "cell_type": "markdown",
   "id": "25af022c",
   "metadata": {},
   "source": [
    "### Reviews per Bank"
   ]
  },
  {
   "cell_type": "code",
   "execution_count": null,
   "id": "7fe45e78",
   "metadata": {},
   "outputs": [],
   "source": [
    "\n",
    "sns.countplot(x='bank', data=df)\n",
    "plt.title(\"Number of Reviews per Bank\")\n",
    "plt.xlabel(\"Bank\")\n",
    "plt.ylabel(\"Count\")\n",
    "plt.show()\n",
    "    "
   ]
  },
  {
   "cell_type": "markdown",
   "id": "e6b3bfd2",
   "metadata": {},
   "source": [
    "### Sample Reviews (Positive/Negative)"
   ]
  },
  {
   "cell_type": "code",
   "execution_count": null,
   "id": "418ca640",
   "metadata": {},
   "outputs": [],
   "source": [
    "\n",
    "df[df['sentiment_label'] == 'positive'].sample(3)[['review_text', 'rating']]\n",
    "    "
   ]
  },
  {
   "cell_type": "code",
   "execution_count": null,
   "id": "23c76bae",
   "metadata": {},
   "outputs": [],
   "source": [
    "\n",
    "df[df['sentiment_label'] == 'negative'].sample(3)[['review_text', 'rating']]\n",
    "    "
   ]
  },
  {
   "cell_type": "markdown",
   "id": "cd2c6ae9",
   "metadata": {},
   "source": [
    "### Check for Missing Values"
   ]
  },
  {
   "cell_type": "code",
   "execution_count": null,
   "id": "672551ab",
   "metadata": {},
   "outputs": [],
   "source": [
    "df.isnull().sum()"
   ]
  }
 ],
 "metadata": {
  "kernelspec": {
   "display_name": "venv",
   "language": "python",
   "name": "python3"
  },
  "language_info": {
   "codemirror_mode": {
    "name": "ipython",
    "version": 3
   },
   "file_extension": ".py",
   "mimetype": "text/x-python",
   "name": "python",
   "nbconvert_exporter": "python",
   "pygments_lexer": "ipython3",
   "version": "3.9.13"
  }
 },
 "nbformat": 4,
 "nbformat_minor": 5
}
