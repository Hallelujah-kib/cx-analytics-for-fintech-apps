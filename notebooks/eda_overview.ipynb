{
 "cells": [
  {
   "cell_type": "markdown",
   "id": "8d98eb1c",
   "metadata": {},
   "source": [
    "# 📊 EDA Overview – Fintech App Reviews"
   ]
  },
  {
   "cell_type": "code",
   "execution_count": 1,
   "id": "aeb4ac65",
   "metadata": {},
   "outputs": [
    {
     "data": {
      "text/html": [
       "<div>\n",
       "<style scoped>\n",
       "    .dataframe tbody tr th:only-of-type {\n",
       "        vertical-align: middle;\n",
       "    }\n",
       "\n",
       "    .dataframe tbody tr th {\n",
       "        vertical-align: top;\n",
       "    }\n",
       "\n",
       "    .dataframe thead th {\n",
       "        text-align: right;\n",
       "    }\n",
       "</style>\n",
       "<table border=\"1\" class=\"dataframe\">\n",
       "  <thead>\n",
       "    <tr style=\"text-align: right;\">\n",
       "      <th></th>\n",
       "      <th>review_text</th>\n",
       "      <th>rating</th>\n",
       "      <th>date</th>\n",
       "      <th>bank_name</th>\n",
       "      <th>source</th>\n",
       "      <th>source_file</th>\n",
       "      <th>app_id</th>\n",
       "      <th>translated_review</th>\n",
       "      <th>sentiment_label</th>\n",
       "      <th>sentiment_score</th>\n",
       "    </tr>\n",
       "  </thead>\n",
       "  <tbody>\n",
       "    <tr>\n",
       "      <th>0</th>\n",
       "      <td>the worst app humans ever created</td>\n",
       "      <td>1</td>\n",
       "      <td>2025-06-09</td>\n",
       "      <td>BOA</td>\n",
       "      <td>Google Play</td>\n",
       "      <td>BOA_reviews_20250610_224350.csv</td>\n",
       "      <td>NaN</td>\n",
       "      <td>the worst app humans ever created</td>\n",
       "      <td>negative</td>\n",
       "      <td>0.999801</td>\n",
       "    </tr>\n",
       "    <tr>\n",
       "      <th>1</th>\n",
       "      <td>it's not working</td>\n",
       "      <td>3</td>\n",
       "      <td>2025-06-05</td>\n",
       "      <td>BOA</td>\n",
       "      <td>Google Play</td>\n",
       "      <td>BOA_reviews_20250610_224350.csv</td>\n",
       "      <td>NaN</td>\n",
       "      <td>it's not working</td>\n",
       "      <td>negative</td>\n",
       "      <td>0.999786</td>\n",
       "    </tr>\n",
       "    <tr>\n",
       "      <th>2</th>\n",
       "      <td>Hello, I’m facing a problem with the BOA Mobil...</td>\n",
       "      <td>1</td>\n",
       "      <td>2025-06-03</td>\n",
       "      <td>BOA</td>\n",
       "      <td>Google Play</td>\n",
       "      <td>BOA_reviews_20250610_224350.csv</td>\n",
       "      <td>NaN</td>\n",
       "      <td>Hello, I’m facing a problem with the BOA Mobil...</td>\n",
       "      <td>negative</td>\n",
       "      <td>0.999415</td>\n",
       "    </tr>\n",
       "    <tr>\n",
       "      <th>3</th>\n",
       "      <td>exceptional</td>\n",
       "      <td>5</td>\n",
       "      <td>2025-06-03</td>\n",
       "      <td>BOA</td>\n",
       "      <td>Google Play</td>\n",
       "      <td>BOA_reviews_20250610_224350.csv</td>\n",
       "      <td>NaN</td>\n",
       "      <td>exceptional</td>\n",
       "      <td>positive</td>\n",
       "      <td>0.999851</td>\n",
       "    </tr>\n",
       "    <tr>\n",
       "      <th>4</th>\n",
       "      <td>BoA Mobile good bank</td>\n",
       "      <td>5</td>\n",
       "      <td>2025-06-02</td>\n",
       "      <td>BOA</td>\n",
       "      <td>Google Play</td>\n",
       "      <td>BOA_reviews_20250610_224350.csv</td>\n",
       "      <td>NaN</td>\n",
       "      <td>BoA Mobile good bank</td>\n",
       "      <td>positive</td>\n",
       "      <td>0.998473</td>\n",
       "    </tr>\n",
       "  </tbody>\n",
       "</table>\n",
       "</div>"
      ],
      "text/plain": [
       "                                         review_text  rating        date  \\\n",
       "0                  the worst app humans ever created       1  2025-06-09   \n",
       "1                                   it's not working       3  2025-06-05   \n",
       "2  Hello, I’m facing a problem with the BOA Mobil...       1  2025-06-03   \n",
       "3                                        exceptional       5  2025-06-03   \n",
       "4                               BoA Mobile good bank       5  2025-06-02   \n",
       "\n",
       "  bank_name       source                      source_file app_id  \\\n",
       "0       BOA  Google Play  BOA_reviews_20250610_224350.csv    NaN   \n",
       "1       BOA  Google Play  BOA_reviews_20250610_224350.csv    NaN   \n",
       "2       BOA  Google Play  BOA_reviews_20250610_224350.csv    NaN   \n",
       "3       BOA  Google Play  BOA_reviews_20250610_224350.csv    NaN   \n",
       "4       BOA  Google Play  BOA_reviews_20250610_224350.csv    NaN   \n",
       "\n",
       "                                   translated_review sentiment_label  \\\n",
       "0                  the worst app humans ever created        negative   \n",
       "1                                   it's not working        negative   \n",
       "2  Hello, I’m facing a problem with the BOA Mobil...        negative   \n",
       "3                                        exceptional        positive   \n",
       "4                               BoA Mobile good bank        positive   \n",
       "\n",
       "   sentiment_score  \n",
       "0         0.999801  \n",
       "1         0.999786  \n",
       "2         0.999415  \n",
       "3         0.999851  \n",
       "4         0.998473  "
      ]
     },
     "execution_count": 1,
     "metadata": {},
     "output_type": "execute_result"
    }
   ],
   "source": [
    "\n",
    "import pandas as pd\n",
    "import seaborn as sns\n",
    "import matplotlib.pyplot as plt\n",
    "\n",
    "df = pd.read_csv('../data/processed/final_sentiment_reviews.csv')\n",
    "df.head()\n",
    "    "
   ]
  },
  {
   "cell_type": "markdown",
   "id": "42d2ecaa",
   "metadata": {},
   "source": [
    "### Rating Distribution"
   ]
  },
  {
   "cell_type": "code",
   "execution_count": 2,
   "id": "1b91db38",
   "metadata": {},
   "outputs": [
    {
     "data": {
      "image/png": "[encoded data removed]",
      "text/plain": [
       "<Figure size 640x480 with 1 Axes>"
      ]
     },
     "metadata": {},
     "output_type": "display_data"
    }
   ],
   "source": [
    "\n",
    "sns.histplot(df['rating'], bins=5, kde=True)\n",
    "plt.title(\"Distribution of Ratings\")\n",
    "plt.xlabel(\"Rating\")\n",
    "plt.ylabel(\"Count\")\n",
    "plt.show()\n",
    "    "
   ]
  },
  {
   "cell_type": "markdown",
   "id": "25af022c",
   "metadata": {},
   "source": [
    "### Reviews per Bank"
   ]
  },
  {
   "cell_type": "code",
   "execution_count": 4,
   "id": "7fe45e78",
   "metadata": {},
   "outputs": [
    {
     "data": {
      "image/png": "[encoded data removed]",
      "text/plain": [
       "<Figure size 640x480 with 1 Axes>"
      ]
     },
     "metadata": {},
     "output_type": "display_data"
    }
   ],
   "source": [
    "\n",
    "sns.countplot(x='bank_name', data=df)\n",
    "plt.title(\"Number of Reviews per Bank\")\n",
    "plt.xlabel(\"Bank\")\n",
    "plt.ylabel(\"Count\")\n",
    "plt.show()\n",
    "    "
   ]
  },
  {
   "cell_type": "markdown",
   "id": "e6b3bfd2",
   "metadata": {},
   "source": [
    "### Sample Reviews (Positive/Negative)"
   ]
  },
  {
   "cell_type": "code",
   "execution_count": 6,
   "id": "418ca640",
   "metadata": {},
   "outputs": [
    {
     "data": {
      "text/html": [
       "<div>\n",
       "<style scoped>\n",
       "    .dataframe tbody tr th:only-of-type {\n",
       "        vertical-align: middle;\n",
       "    }\n",
       "\n",
       "    .dataframe tbody tr th {\n",
       "        vertical-align: top;\n",
       "    }\n",
       "\n",
       "    .dataframe thead th {\n",
       "        text-align: right;\n",
       "    }\n",
       "</style>\n",
       "<table border=\"1\" class=\"dataframe\">\n",
       "  <thead>\n",
       "    <tr style=\"text-align: right;\">\n",
       "      <th></th>\n",
       "      <th>review_text</th>\n",
       "      <th>rating</th>\n",
       "    </tr>\n",
       "  </thead>\n",
       "  <tbody>\n",
       "    <tr>\n",
       "      <th>543</th>\n",
       "      <td>it's the best app i</td>\n",
       "      <td>5</td>\n",
       "    </tr>\n",
       "    <tr>\n",
       "      <th>605</th>\n",
       "      <td>جميل</td>\n",
       "      <td>5</td>\n",
       "    </tr>\n",
       "    <tr>\n",
       "      <th>1093</th>\n",
       "      <td>Very impressive interface with best security f...</td>\n",
       "      <td>5</td>\n",
       "    </tr>\n",
       "    <tr>\n",
       "      <th>329</th>\n",
       "      <td>we want international mobile banking</td>\n",
       "      <td>1</td>\n",
       "    </tr>\n",
       "    <tr>\n",
       "      <th>581</th>\n",
       "      <td>great app!!!</td>\n",
       "      <td>5</td>\n",
       "    </tr>\n",
       "    <tr>\n",
       "      <th>142</th>\n",
       "      <td>Very nice</td>\n",
       "      <td>5</td>\n",
       "    </tr>\n",
       "    <tr>\n",
       "      <th>769</th>\n",
       "      <td>It grows ethiopian digital banking step ahead....</td>\n",
       "      <td>5</td>\n",
       "    </tr>\n",
       "    <tr>\n",
       "      <th>947</th>\n",
       "      <td>ምርጫዬ ነው</td>\n",
       "      <td>5</td>\n",
       "    </tr>\n",
       "    <tr>\n",
       "      <th>17</th>\n",
       "      <td>amazing</td>\n",
       "      <td>5</td>\n",
       "    </tr>\n",
       "    <tr>\n",
       "      <th>862</th>\n",
       "      <td>A proudly Ethiopian innovation that delivers b...</td>\n",
       "      <td>5</td>\n",
       "    </tr>\n",
       "  </tbody>\n",
       "</table>\n",
       "</div>"
      ],
      "text/plain": [
       "                                            review_text  rating\n",
       "543                                 it's the best app i       5\n",
       "605                                                جميل       5\n",
       "1093  Very impressive interface with best security f...       5\n",
       "329                we want international mobile banking       1\n",
       "581                                        great app!!!       5\n",
       "142                                           Very nice       5\n",
       "769   It grows ethiopian digital banking step ahead....       5\n",
       "947                                             ምርጫዬ ነው       5\n",
       "17                                              amazing       5\n",
       "862   A proudly Ethiopian innovation that delivers b...       5"
      ]
     },
     "execution_count": 6,
     "metadata": {},
     "output_type": "execute_result"
    }
   ],
   "source": [
    "\n",
    "df[df['sentiment_label'] == 'positive'].sample(10)[['review_text', 'rating']]\n",
    "    "
   ]
  },
  {
   "cell_type": "code",
   "execution_count": 7,
   "id": "23c76bae",
   "metadata": {},
   "outputs": [
    {
     "data": {
      "text/html": [
       "<div>\n",
       "<style scoped>\n",
       "    .dataframe tbody tr th:only-of-type {\n",
       "        vertical-align: middle;\n",
       "    }\n",
       "\n",
       "    .dataframe tbody tr th {\n",
       "        vertical-align: top;\n",
       "    }\n",
       "\n",
       "    .dataframe thead th {\n",
       "        text-align: right;\n",
       "    }\n",
       "</style>\n",
       "<table border=\"1\" class=\"dataframe\">\n",
       "  <thead>\n",
       "    <tr style=\"text-align: right;\">\n",
       "      <th></th>\n",
       "      <th>review_text</th>\n",
       "      <th>rating</th>\n",
       "    </tr>\n",
       "  </thead>\n",
       "  <tbody>\n",
       "    <tr>\n",
       "      <th>62</th>\n",
       "      <td>all worck</td>\n",
       "      <td>5</td>\n",
       "    </tr>\n",
       "    <tr>\n",
       "      <th>343</th>\n",
       "      <td>The poorest mobile banking survice ever. Only ...</td>\n",
       "      <td>1</td>\n",
       "    </tr>\n",
       "    <tr>\n",
       "      <th>403</th>\n",
       "      <td>not functional</td>\n",
       "      <td>1</td>\n",
       "    </tr>\n",
       "    <tr>\n",
       "      <th>335</th>\n",
       "      <td>The App is not working on Android 9.1 at all. ...</td>\n",
       "      <td>1</td>\n",
       "    </tr>\n",
       "    <tr>\n",
       "      <th>614</th>\n",
       "      <td>but this app says can't sync</td>\n",
       "      <td>5</td>\n",
       "    </tr>\n",
       "    <tr>\n",
       "      <th>241</th>\n",
       "      <td>Better app than most mobile apps, but why do I...</td>\n",
       "      <td>1</td>\n",
       "    </tr>\n",
       "    <tr>\n",
       "      <th>573</th>\n",
       "      <td>why removing screenshot feature why?</td>\n",
       "      <td>1</td>\n",
       "    </tr>\n",
       "    <tr>\n",
       "      <th>239</th>\n",
       "      <td>It's not working. It needs a big update. Can't...</td>\n",
       "      <td>1</td>\n",
       "    </tr>\n",
       "    <tr>\n",
       "      <th>347</th>\n",
       "      <td>The app is constantly crashing and freezing wh...</td>\n",
       "      <td>1</td>\n",
       "    </tr>\n",
       "    <tr>\n",
       "      <th>259</th>\n",
       "      <td>The worst experience ever</td>\n",
       "      <td>1</td>\n",
       "    </tr>\n",
       "  </tbody>\n",
       "</table>\n",
       "</div>"
      ],
      "text/plain": [
       "                                           review_text  rating\n",
       "62                                           all worck       5\n",
       "343  The poorest mobile banking survice ever. Only ...       1\n",
       "403                                     not functional       1\n",
       "335  The App is not working on Android 9.1 at all. ...       1\n",
       "614                       but this app says can't sync       5\n",
       "241  Better app than most mobile apps, but why do I...       1\n",
       "573               why removing screenshot feature why?       1\n",
       "239  It's not working. It needs a big update. Can't...       1\n",
       "347  The app is constantly crashing and freezing wh...       1\n",
       "259                          The worst experience ever       1"
      ]
     },
     "execution_count": 7,
     "metadata": {},
     "output_type": "execute_result"
    }
   ],
   "source": [
    "\n",
    "df[df['sentiment_label'] == 'negative'].sample(10)[['review_text', 'rating']]\n",
    "    "
   ]
  },
  {
   "cell_type": "markdown",
   "id": "cd2c6ae9",
   "metadata": {},
   "source": [
    "### Check for Missing Values"
   ]
  },
  {
   "cell_type": "code",
   "execution_count": 8,
   "id": "672551ab",
   "metadata": {},
   "outputs": [
    {
     "data": {
      "text/plain": [
       "review_text            0\n",
       "rating                 0\n",
       "date                   0\n",
       "bank_name              0\n",
       "source                 0\n",
       "source_file            0\n",
       "app_id               986\n",
       "translated_review      0\n",
       "sentiment_label        0\n",
       "sentiment_score        0\n",
       "dtype: int64"
      ]
     },
     "execution_count": 8,
     "metadata": {},
     "output_type": "execute_result"
    }
   ],
   "source": [
    "df.isnull().sum()"
   ]
  }
 ],
 "metadata": {
  "kernelspec": {
   "display_name": "venv",
   "language": "python",
   "name": "python3"
  },
  "language_info": {
   "codemirror_mode": {
    "name": "ipython",
    "version": 3
   },
   "file_extension": ".py",
   "mimetype": "text/x-python",
   "name": "python",
   "nbconvert_exporter": "python",
   "pygments_lexer": "ipython3",
   "version": "3.9.13"
  }
 },
 "nbformat": 4,
 "nbformat_minor": 5
}
